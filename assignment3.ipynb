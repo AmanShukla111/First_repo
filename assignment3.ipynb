{
  "metadata": {
    "kernelspec": {
      "language": "python",
      "display_name": "Python 3",
      "name": "python3"
    },
    "language_info": {
      "name": "python",
      "version": "3.7.9",
      "mimetype": "text/x-python",
      "codemirror_mode": {
        "name": "ipython",
        "version": 3
      },
      "pygments_lexer": "ipython3",
      "nbconvert_exporter": "python",
      "file_extension": ".py"
    },
    "kaggle": {
      "accelerator": "gpu",
      "dataSources": [
        {
          "sourceId": 1956405,
          "sourceType": "datasetVersion",
          "datasetId": 1060121
        },
        {
          "sourceId": 7153239,
          "sourceType": "datasetVersion",
          "datasetId": 4130481
        }
      ],
      "dockerImageVersionId": 30068,
      "isInternetEnabled": true,
      "language": "python",
      "sourceType": "notebook",
      "isGpuEnabled": true
    },
    "colab": {
      "provenance": [],
      "include_colab_link": true
    }
  },
  "nbformat_minor": 0,
  "nbformat": 4,
  "cells": [
    {
      "cell_type": "markdown",
      "metadata": {
        "id": "view-in-github",
        "colab_type": "text"
      },
      "source": [
        "<a href=\"https://colab.research.google.com/github/AmanShukla111/First_repo/blob/main/assignment3.ipynb\" target=\"_parent\"><img src=\"https://colab.research.google.com/assets/colab-badge.svg\" alt=\"Open In Colab\"/></a>"
      ]
    },
    {
      "cell_type": "code",
      "source": [
        "!pip install beautifulsoup4\n",
        "!pip install -q transformers\n",
        "!pip install -q emoji\n",
        "!pip install -q preprocessor\n",
        "!pip install -q contractions"
      ],
      "metadata": {
        "execution": {
          "iopub.status.busy": "2023-12-08T16:33:13.884819Z",
          "iopub.execute_input": "2023-12-08T16:33:13.885187Z",
          "iopub.status.idle": "2023-12-08T16:33:52.937091Z",
          "shell.execute_reply.started": "2023-12-08T16:33:13.885108Z",
          "shell.execute_reply": "2023-12-08T16:33:52.935997Z"
        },
        "trusted": true,
        "id": "drPi3lhRARn5",
        "outputId": "a048f0df-c7aa-4b7d-fadf-ff3643baa08a"
      },
      "execution_count": null,
      "outputs": [
        {
          "name": "stdout",
          "text": "Collecting beautifulsoup4\n  Downloading beautifulsoup4-4.12.2-py3-none-any.whl (142 kB)\n\u001b[K     |████████████████████████████████| 142 kB 3.8 MB/s eta 0:00:01\n\u001b[?25hCollecting soupsieve>1.2\n  Downloading soupsieve-2.4.1-py3-none-any.whl (36 kB)\nInstalling collected packages: soupsieve, beautifulsoup4\nSuccessfully installed beautifulsoup4-4.12.2 soupsieve-2.4.1\n\u001b[33mWARNING: You are using pip version 21.0.1; however, version 23.3.1 is available.\nYou should consider upgrading via the '/opt/conda/bin/python3.7 -m pip install --upgrade pip' command.\u001b[0m\n\u001b[33mWARNING: You are using pip version 21.0.1; however, version 23.3.1 is available.\nYou should consider upgrading via the '/opt/conda/bin/python3.7 -m pip install --upgrade pip' command.\u001b[0m\n\u001b[33mWARNING: You are using pip version 21.0.1; however, version 23.3.1 is available.\nYou should consider upgrading via the '/opt/conda/bin/python3.7 -m pip install --upgrade pip' command.\u001b[0m\n\u001b[33mWARNING: You are using pip version 21.0.1; however, version 23.3.1 is available.\nYou should consider upgrading via the '/opt/conda/bin/python3.7 -m pip install --upgrade pip' command.\u001b[0m\n\u001b[33mWARNING: You are using pip version 21.0.1; however, version 23.3.1 is available.\nYou should consider upgrading via the '/opt/conda/bin/python3.7 -m pip install --upgrade pip' command.\u001b[0m\n",
          "output_type": "stream"
        }
      ]
    },
    {
      "cell_type": "code",
      "source": [
        "import pandas as pd\n",
        "import numpy as np\n",
        "import re\n",
        "import seaborn as sns\n",
        "import matplotlib.pyplot as plt\n",
        "from tqdm import tqdm\n",
        "import preprocessor\n",
        "import contractions\n",
        "from sklearn.model_selection import train_test_split\n",
        "from sklearn.feature_extraction.text import TfidfVectorizer\n",
        "from sklearn.linear_model import RidgeClassifier\n",
        "# from sklearn.ensemble import RandomForestClassifier\n",
        "from sklearn.multioutput import MultiOutputClassifier\n",
        "from sklearn.metrics import (accuracy_score, classification_report,\n",
        "                             confusion_matrix, f1_score, precision_score,\n",
        "                             recall_score)\n",
        "\n",
        "tqdm.pandas()\n",
        "\n",
        "\n",
        "import os\n",
        "import re\n",
        "import string\n",
        "import json\n",
        "import emoji\n",
        "from sklearn import metrics\n",
        "from bs4 import BeautifulSoup\n",
        "import transformers\n",
        "import torch\n",
        "from torch.utils.data import Dataset, DataLoader, RandomSampler, SequentialSampler\n",
        "from transformers import BertTokenizer, AutoTokenizer, BertModel, BertConfig, AutoModel, AdamW\n",
        "import warnings\n",
        "warnings.filterwarnings('ignore')\n",
        "\n",
        "pd.set_option(\"display.max_columns\", None)"
      ],
      "metadata": {
        "execution": {
          "iopub.status.busy": "2023-12-08T16:33:52.939385Z",
          "iopub.execute_input": "2023-12-08T16:33:52.939707Z",
          "iopub.status.idle": "2023-12-08T16:33:56.131454Z",
          "shell.execute_reply.started": "2023-12-08T16:33:52.939656Z",
          "shell.execute_reply": "2023-12-08T16:33:56.130718Z"
        },
        "trusted": true,
        "id": "ALu2QGRMARn7",
        "outputId": "4f8f02bb-8add-431d-afd4-a2b3796cd650"
      },
      "execution_count": null,
      "outputs": [
        {
          "name": "stderr",
          "text": "/opt/conda/lib/python3.7/site-packages/tqdm/std.py:701: FutureWarning: The Panel class is removed from pandas. Accessing it from the top-level namespace will also be removed in the next version\n  from pandas import Panel\n",
          "output_type": "stream"
        }
      ]
    },
    {
      "cell_type": "code",
      "source": [
        "data = pd.read_csv('/kaggle/input/d/amanshukla111/goemotions/go_emotions_dataset.csv')\n",
        "data = data.head(100000)\n",
        "\n",
        "data.drop('example_very_unclear', inplace=True, axis=1)\n",
        "\n",
        "data['emotion'] = (data.iloc[:, 2:] == 1).idxmax(axis=1)\n",
        "\n",
        "data['emotion'] = data['emotion'].apply(lambda x: [x])\n",
        "\n",
        "emotion_list = ['neutral', 'admiration', 'amusement', 'anger', 'annoyance', 'approval', 'caring', 'confusion', 'curiosity',\n",
        "                'desire', 'disappointment', 'disapproval', 'disgust', 'embarrassment', 'excitement', 'fear',\n",
        "                'gratitude', 'grief', 'joy', 'love', 'nervousness', 'optimism', 'pride', 'realization', 'relief',\n",
        "                'remorse', 'sadness', 'surprise']\n",
        "\n",
        "emotion_mapping = {emotion: index + 1 for index, emotion in enumerate(emotion_list)}\n",
        "data['Class'] = data['emotion'].apply(lambda x: emotion_mapping[x[0]] if x[0] in emotion_mapping else [])\n",
        "data = data.rename(columns={'text': 'Text', 'emotion': 'Emotions', 'id': 'ID'})\n",
        "data.head()\n",
        "\n",
        "\n",
        "\n",
        "# data.drop('example_very_unclear', inplace=True, axis=1)\n",
        "# data['emotion'] = (data.iloc[:, 2:] == 1).idxmax(1)\n",
        "\n",
        "# emotion_list = ['neutral','admiration', 'amusement', 'anger', 'annoyance', 'approval', 'caring', 'confusion', 'curiosity',\n",
        "#                  'desire', 'disappointment', 'disapproval', 'disgust', 'embarrassment', 'excitement', 'fear',\n",
        "#                  'gratitude', 'grief', 'joy', 'love', 'nervousness', 'optimism', 'pride', 'realization', 'relief',\n",
        "#                  'remorse', 'sadness', 'surprise']\n",
        "\n",
        "# emotion_mapping = {emotion: index + 1 for index, emotion in enumerate(emotion_list)}\n",
        "\n",
        "# # Map the emotions to their positions in the 'emotion' column\n",
        "# data['Class'] = data['emotion'].map(emotion_mapping)\n",
        "# data = data.rename(columns={'text':'Text','emotion':'Emotions','id':'ID'})\n",
        "# data.head()"
      ],
      "metadata": {
        "execution": {
          "iopub.status.busy": "2023-12-08T16:33:56.132637Z",
          "iopub.execute_input": "2023-12-08T16:33:56.132936Z",
          "iopub.status.idle": "2023-12-08T16:33:57.502530Z",
          "shell.execute_reply.started": "2023-12-08T16:33:56.132907Z",
          "shell.execute_reply": "2023-12-08T16:33:57.501776Z"
        },
        "trusted": true,
        "id": "JW25ZWQlARn8",
        "outputId": "d3daa0c5-b36c-424a-9aeb-33b2cb6b545a"
      },
      "execution_count": null,
      "outputs": [
        {
          "execution_count": 3,
          "output_type": "execute_result",
          "data": {
            "text/plain": "        ID                                               Text  admiration  \\\n0  eew5j0j                                    That game hurt.           0   \n1  eemcysk   >sexuality shouldn’t be a grouping category I...           0   \n2  ed2mah1     You do right, if you don't care then fuck 'em!           0   \n3  eeibobj                                 Man I love reddit.           0   \n4  eda6yn6  [NAME] was nowhere near them, he was by the Fa...           0   \n\n   amusement  anger  annoyance  approval  caring  confusion  curiosity  \\\n0          0      0          0         0       0          0          0   \n1          0      0          0         0       0          0          0   \n2          0      0          0         0       0          0          0   \n3          0      0          0         0       0          0          0   \n4          0      0          0         0       0          0          0   \n\n   desire  disappointment  disapproval  disgust  embarrassment  excitement  \\\n0       0               0            0        0              0           0   \n1       0               0            0        0              0           0   \n2       0               0            0        0              0           0   \n3       0               0            0        0              0           0   \n4       0               0            0        0              0           0   \n\n   fear  gratitude  grief  joy  love  nervousness  optimism  pride  \\\n0     0          0      0    0     0            0         0      0   \n1     0          0      0    0     0            0         0      0   \n2     0          0      0    0     0            0         0      0   \n3     0          0      0    0     1            0         0      0   \n4     0          0      0    0     0            0         0      0   \n\n   realization  relief  remorse  sadness  surprise  neutral      Emotions  \\\n0            0       0        0        1         0        0     [sadness]   \n1            0       0        0        0         0        0  [admiration]   \n2            0       0        0        0         0        1     [neutral]   \n3            0       0        0        0         0        0        [love]   \n4            0       0        0        0         0        1     [neutral]   \n\n   Class  \n0     27  \n1      2  \n2      1  \n3     20  \n4      1  ",
            "text/html": "<div>\n<style scoped>\n    .dataframe tbody tr th:only-of-type {\n        vertical-align: middle;\n    }\n\n    .dataframe tbody tr th {\n        vertical-align: top;\n    }\n\n    .dataframe thead th {\n        text-align: right;\n    }\n</style>\n<table border=\"1\" class=\"dataframe\">\n  <thead>\n    <tr style=\"text-align: right;\">\n      <th></th>\n      <th>ID</th>\n      <th>Text</th>\n      <th>admiration</th>\n      <th>amusement</th>\n      <th>anger</th>\n      <th>annoyance</th>\n      <th>approval</th>\n      <th>caring</th>\n      <th>confusion</th>\n      <th>curiosity</th>\n      <th>desire</th>\n      <th>disappointment</th>\n      <th>disapproval</th>\n      <th>disgust</th>\n      <th>embarrassment</th>\n      <th>excitement</th>\n      <th>fear</th>\n      <th>gratitude</th>\n      <th>grief</th>\n      <th>joy</th>\n      <th>love</th>\n      <th>nervousness</th>\n      <th>optimism</th>\n      <th>pride</th>\n      <th>realization</th>\n      <th>relief</th>\n      <th>remorse</th>\n      <th>sadness</th>\n      <th>surprise</th>\n      <th>neutral</th>\n      <th>Emotions</th>\n      <th>Class</th>\n    </tr>\n  </thead>\n  <tbody>\n    <tr>\n      <th>0</th>\n      <td>eew5j0j</td>\n      <td>That game hurt.</td>\n      <td>0</td>\n      <td>0</td>\n      <td>0</td>\n      <td>0</td>\n      <td>0</td>\n      <td>0</td>\n      <td>0</td>\n      <td>0</td>\n      <td>0</td>\n      <td>0</td>\n      <td>0</td>\n      <td>0</td>\n      <td>0</td>\n      <td>0</td>\n      <td>0</td>\n      <td>0</td>\n      <td>0</td>\n      <td>0</td>\n      <td>0</td>\n      <td>0</td>\n      <td>0</td>\n      <td>0</td>\n      <td>0</td>\n      <td>0</td>\n      <td>0</td>\n      <td>1</td>\n      <td>0</td>\n      <td>0</td>\n      <td>[sadness]</td>\n      <td>27</td>\n    </tr>\n    <tr>\n      <th>1</th>\n      <td>eemcysk</td>\n      <td>&gt;sexuality shouldn’t be a grouping category I...</td>\n      <td>0</td>\n      <td>0</td>\n      <td>0</td>\n      <td>0</td>\n      <td>0</td>\n      <td>0</td>\n      <td>0</td>\n      <td>0</td>\n      <td>0</td>\n      <td>0</td>\n      <td>0</td>\n      <td>0</td>\n      <td>0</td>\n      <td>0</td>\n      <td>0</td>\n      <td>0</td>\n      <td>0</td>\n      <td>0</td>\n      <td>0</td>\n      <td>0</td>\n      <td>0</td>\n      <td>0</td>\n      <td>0</td>\n      <td>0</td>\n      <td>0</td>\n      <td>0</td>\n      <td>0</td>\n      <td>0</td>\n      <td>[admiration]</td>\n      <td>2</td>\n    </tr>\n    <tr>\n      <th>2</th>\n      <td>ed2mah1</td>\n      <td>You do right, if you don't care then fuck 'em!</td>\n      <td>0</td>\n      <td>0</td>\n      <td>0</td>\n      <td>0</td>\n      <td>0</td>\n      <td>0</td>\n      <td>0</td>\n      <td>0</td>\n      <td>0</td>\n      <td>0</td>\n      <td>0</td>\n      <td>0</td>\n      <td>0</td>\n      <td>0</td>\n      <td>0</td>\n      <td>0</td>\n      <td>0</td>\n      <td>0</td>\n      <td>0</td>\n      <td>0</td>\n      <td>0</td>\n      <td>0</td>\n      <td>0</td>\n      <td>0</td>\n      <td>0</td>\n      <td>0</td>\n      <td>0</td>\n      <td>1</td>\n      <td>[neutral]</td>\n      <td>1</td>\n    </tr>\n    <tr>\n      <th>3</th>\n      <td>eeibobj</td>\n      <td>Man I love reddit.</td>\n      <td>0</td>\n      <td>0</td>\n      <td>0</td>\n      <td>0</td>\n      <td>0</td>\n      <td>0</td>\n      <td>0</td>\n      <td>0</td>\n      <td>0</td>\n      <td>0</td>\n      <td>0</td>\n      <td>0</td>\n      <td>0</td>\n      <td>0</td>\n      <td>0</td>\n      <td>0</td>\n      <td>0</td>\n      <td>0</td>\n      <td>1</td>\n      <td>0</td>\n      <td>0</td>\n      <td>0</td>\n      <td>0</td>\n      <td>0</td>\n      <td>0</td>\n      <td>0</td>\n      <td>0</td>\n      <td>0</td>\n      <td>[love]</td>\n      <td>20</td>\n    </tr>\n    <tr>\n      <th>4</th>\n      <td>eda6yn6</td>\n      <td>[NAME] was nowhere near them, he was by the Fa...</td>\n      <td>0</td>\n      <td>0</td>\n      <td>0</td>\n      <td>0</td>\n      <td>0</td>\n      <td>0</td>\n      <td>0</td>\n      <td>0</td>\n      <td>0</td>\n      <td>0</td>\n      <td>0</td>\n      <td>0</td>\n      <td>0</td>\n      <td>0</td>\n      <td>0</td>\n      <td>0</td>\n      <td>0</td>\n      <td>0</td>\n      <td>0</td>\n      <td>0</td>\n      <td>0</td>\n      <td>0</td>\n      <td>0</td>\n      <td>0</td>\n      <td>0</td>\n      <td>0</td>\n      <td>0</td>\n      <td>1</td>\n      <td>[neutral]</td>\n      <td>1</td>\n    </tr>\n  </tbody>\n</table>\n</div>"
          },
          "metadata": {}
        }
      ]
    },
    {
      "cell_type": "code",
      "source": [
        "data = data[['Text','Class','ID','Emotions']]\n",
        "data['Class'] = data['Class'].astype(str)\n",
        "data.head()"
      ],
      "metadata": {
        "execution": {
          "iopub.status.busy": "2023-12-08T16:33:57.503896Z",
          "iopub.execute_input": "2023-12-08T16:33:57.504211Z",
          "iopub.status.idle": "2023-12-08T16:33:57.650420Z",
          "shell.execute_reply.started": "2023-12-08T16:33:57.504181Z",
          "shell.execute_reply": "2023-12-08T16:33:57.649478Z"
        },
        "trusted": true,
        "id": "oSkVMU9_ARn9",
        "outputId": "79eeff80-1d25-48d4-a1ec-579fb9f90596"
      },
      "execution_count": null,
      "outputs": [
        {
          "execution_count": 4,
          "output_type": "execute_result",
          "data": {
            "text/plain": "                                                Text Class       ID  \\\n0                                    That game hurt.    27  eew5j0j   \n1   >sexuality shouldn’t be a grouping category I...     2  eemcysk   \n2     You do right, if you don't care then fuck 'em!     1  ed2mah1   \n3                                 Man I love reddit.    20  eeibobj   \n4  [NAME] was nowhere near them, he was by the Fa...     1  eda6yn6   \n\n       Emotions  \n0     [sadness]  \n1  [admiration]  \n2     [neutral]  \n3        [love]  \n4     [neutral]  ",
            "text/html": "<div>\n<style scoped>\n    .dataframe tbody tr th:only-of-type {\n        vertical-align: middle;\n    }\n\n    .dataframe tbody tr th {\n        vertical-align: top;\n    }\n\n    .dataframe thead th {\n        text-align: right;\n    }\n</style>\n<table border=\"1\" class=\"dataframe\">\n  <thead>\n    <tr style=\"text-align: right;\">\n      <th></th>\n      <th>Text</th>\n      <th>Class</th>\n      <th>ID</th>\n      <th>Emotions</th>\n    </tr>\n  </thead>\n  <tbody>\n    <tr>\n      <th>0</th>\n      <td>That game hurt.</td>\n      <td>27</td>\n      <td>eew5j0j</td>\n      <td>[sadness]</td>\n    </tr>\n    <tr>\n      <th>1</th>\n      <td>&gt;sexuality shouldn’t be a grouping category I...</td>\n      <td>2</td>\n      <td>eemcysk</td>\n      <td>[admiration]</td>\n    </tr>\n    <tr>\n      <th>2</th>\n      <td>You do right, if you don't care then fuck 'em!</td>\n      <td>1</td>\n      <td>ed2mah1</td>\n      <td>[neutral]</td>\n    </tr>\n    <tr>\n      <th>3</th>\n      <td>Man I love reddit.</td>\n      <td>20</td>\n      <td>eeibobj</td>\n      <td>[love]</td>\n    </tr>\n    <tr>\n      <th>4</th>\n      <td>[NAME] was nowhere near them, he was by the Fa...</td>\n      <td>1</td>\n      <td>eda6yn6</td>\n      <td>[neutral]</td>\n    </tr>\n  </tbody>\n</table>\n</div>"
          },
          "metadata": {}
        }
      ]
    },
    {
      "cell_type": "code",
      "source": [
        "df_train, df_dev = train_test_split(data, test_size=0.1,\n",
        "                                shuffle=True, random_state=42)\n",
        "\n",
        "\n",
        "\n",
        "df_train['List of classes'] = df_train['Class'].apply(lambda x: x.split(','))\n",
        "df_train['Len of classes'] = df_train['List of classes'].apply(lambda x: len(x))\n",
        "df_dev['List of classes'] = df_dev['Class'].apply(lambda x: x.split(','))\n",
        "df_dev['Len of classes'] = df_dev['List of classes'].apply(lambda x: len(x))\n",
        "df_train.head()"
      ],
      "metadata": {
        "execution": {
          "iopub.status.busy": "2023-12-08T16:33:57.653845Z",
          "iopub.execute_input": "2023-12-08T16:33:57.654132Z",
          "iopub.status.idle": "2023-12-08T16:33:57.916456Z",
          "shell.execute_reply.started": "2023-12-08T16:33:57.654104Z",
          "shell.execute_reply": "2023-12-08T16:33:57.915694Z"
        },
        "trusted": true,
        "id": "wbwI-EhvARn9",
        "outputId": "a049f759-3606-47f5-e319-25dfddd70794"
      },
      "execution_count": null,
      "outputs": [
        {
          "execution_count": 5,
          "output_type": "execute_result",
          "data": {
            "text/plain": "                                                    Text Class       ID  \\\n51994  They're all concerned about keeping the human ...     1  eenv79s   \n77540                                   Saving for later    10  eecnzw1   \n16382  This what happens when you run a lineup that i...    24  efbcibl   \n83439              Let's be real, [NAME] is coming back.    10  eefgsn9   \n61618  Animal Crossing made my wife into a vicious an...     4  ee9l5e3   \n\n            Emotions List of classes  Len of classes  \n51994      [neutral]             [1]               1  \n77540       [desire]            [10]               1  \n16382  [realization]            [24]               1  \n83439       [desire]            [10]               1  \n61618        [anger]             [4]               1  ",
            "text/html": "<div>\n<style scoped>\n    .dataframe tbody tr th:only-of-type {\n        vertical-align: middle;\n    }\n\n    .dataframe tbody tr th {\n        vertical-align: top;\n    }\n\n    .dataframe thead th {\n        text-align: right;\n    }\n</style>\n<table border=\"1\" class=\"dataframe\">\n  <thead>\n    <tr style=\"text-align: right;\">\n      <th></th>\n      <th>Text</th>\n      <th>Class</th>\n      <th>ID</th>\n      <th>Emotions</th>\n      <th>List of classes</th>\n      <th>Len of classes</th>\n    </tr>\n  </thead>\n  <tbody>\n    <tr>\n      <th>51994</th>\n      <td>They're all concerned about keeping the human ...</td>\n      <td>1</td>\n      <td>eenv79s</td>\n      <td>[neutral]</td>\n      <td>[1]</td>\n      <td>1</td>\n    </tr>\n    <tr>\n      <th>77540</th>\n      <td>Saving for later</td>\n      <td>10</td>\n      <td>eecnzw1</td>\n      <td>[desire]</td>\n      <td>[10]</td>\n      <td>1</td>\n    </tr>\n    <tr>\n      <th>16382</th>\n      <td>This what happens when you run a lineup that i...</td>\n      <td>24</td>\n      <td>efbcibl</td>\n      <td>[realization]</td>\n      <td>[24]</td>\n      <td>1</td>\n    </tr>\n    <tr>\n      <th>83439</th>\n      <td>Let's be real, [NAME] is coming back.</td>\n      <td>10</td>\n      <td>eefgsn9</td>\n      <td>[desire]</td>\n      <td>[10]</td>\n      <td>1</td>\n    </tr>\n    <tr>\n      <th>61618</th>\n      <td>Animal Crossing made my wife into a vicious an...</td>\n      <td>4</td>\n      <td>ee9l5e3</td>\n      <td>[anger]</td>\n      <td>[4]</td>\n      <td>1</td>\n    </tr>\n  </tbody>\n</table>\n</div>"
          },
          "metadata": {}
        }
      ]
    },
    {
      "cell_type": "code",
      "source": [
        "with open('../input/goemotions/data/ekman_mapping.json') as file:\n",
        "    ekman_mapping = json.load(file)"
      ],
      "metadata": {
        "execution": {
          "iopub.status.busy": "2023-12-08T16:33:57.919408Z",
          "iopub.execute_input": "2023-12-08T16:33:57.919721Z",
          "iopub.status.idle": "2023-12-08T16:33:57.930716Z",
          "shell.execute_reply.started": "2023-12-08T16:33:57.919673Z",
          "shell.execute_reply": "2023-12-08T16:33:57.929739Z"
        },
        "trusted": true,
        "id": "bzkx5pNSARn-"
      },
      "execution_count": null,
      "outputs": []
    },
    {
      "cell_type": "code",
      "source": [
        "emotion_file = open(\"../input/goemotions/data/emotions.txt\", \"r\")\n",
        "emotion_list = emotion_file.read()\n",
        "emotion_list = emotion_list.split(\"\\n\")\n",
        "print(emotion_list)"
      ],
      "metadata": {
        "execution": {
          "iopub.status.busy": "2023-12-08T16:33:57.931988Z",
          "iopub.execute_input": "2023-12-08T16:33:57.932399Z",
          "iopub.status.idle": "2023-12-08T16:33:57.942845Z",
          "shell.execute_reply.started": "2023-12-08T16:33:57.932363Z",
          "shell.execute_reply": "2023-12-08T16:33:57.941933Z"
        },
        "trusted": true,
        "id": "JPdmZPLaARn-",
        "outputId": "e169701a-8553-48c0-b952-78e20d006018"
      },
      "execution_count": null,
      "outputs": [
        {
          "name": "stdout",
          "text": "['admiration', 'amusement', 'anger', 'annoyance', 'approval', 'caring', 'confusion', 'curiosity', 'desire', 'disappointment', 'disapproval', 'disgust', 'embarrassment', 'excitement', 'fear', 'gratitude', 'grief', 'joy', 'love', 'nervousness', 'optimism', 'pride', 'realization', 'relief', 'remorse', 'sadness', 'surprise', 'neutral']\n",
          "output_type": "stream"
        }
      ]
    },
    {
      "cell_type": "code",
      "source": [
        "def EmotionMapping(emotion_list):\n",
        "    map_list = []\n",
        "\n",
        "    for i in emotion_list:\n",
        "        if i in ekman_mapping['anger']:\n",
        "            map_list.append('anger')\n",
        "        if i in ekman_mapping['disgust']:\n",
        "            map_list.append('disgust')\n",
        "        if i in ekman_mapping['fear']:\n",
        "            map_list.append('fear')\n",
        "        if i in ekman_mapping['joy']:\n",
        "            map_list.append('joy')\n",
        "        if i in ekman_mapping['sadness']:\n",
        "            map_list.append('sadness')\n",
        "        if i in ekman_mapping['surprise']:\n",
        "            map_list.append('surprise')\n",
        "        if i == 'neutral':\n",
        "            map_list.append('neutral')\n",
        "\n",
        "    return map_list"
      ],
      "metadata": {
        "execution": {
          "iopub.status.busy": "2023-12-08T16:33:57.944058Z",
          "iopub.execute_input": "2023-12-08T16:33:57.944401Z",
          "iopub.status.idle": "2023-12-08T16:33:57.951032Z",
          "shell.execute_reply.started": "2023-12-08T16:33:57.944372Z",
          "shell.execute_reply": "2023-12-08T16:33:57.950198Z"
        },
        "trusted": true,
        "id": "yaaTWahsARn-"
      },
      "execution_count": null,
      "outputs": []
    },
    {
      "cell_type": "code",
      "source": [
        "df_train['Mapped Emotions'] = df_train['Emotions'].apply(EmotionMapping)\n",
        "df_dev['Mapped Emotions'] = df_dev['Emotions'].apply(EmotionMapping)"
      ],
      "metadata": {
        "execution": {
          "iopub.status.busy": "2023-12-08T16:33:57.952280Z",
          "iopub.execute_input": "2023-12-08T16:33:57.952616Z",
          "iopub.status.idle": "2023-12-08T16:33:58.242295Z",
          "shell.execute_reply.started": "2023-12-08T16:33:57.952587Z",
          "shell.execute_reply": "2023-12-08T16:33:58.241454Z"
        },
        "trusted": true,
        "id": "E_JULRrXARn_"
      },
      "execution_count": null,
      "outputs": []
    },
    {
      "cell_type": "code",
      "source": [
        "df_train['anger'] = np.zeros((len(df_train),1))\n",
        "df_train['disgust'] = np.zeros((len(df_train),1))\n",
        "df_train['fear'] = np.zeros((len(df_train),1))\n",
        "df_train['joy'] = np.zeros((len(df_train),1))\n",
        "df_train['sadness'] = np.zeros((len(df_train),1))\n",
        "df_train['surprise'] = np.zeros((len(df_train),1))\n",
        "df_train['neutral'] = np.zeros((len(df_train),1))\n",
        "\n",
        "df_dev['anger'] = np.zeros((len(df_dev),1))\n",
        "df_dev['disgust'] = np.zeros((len(df_dev),1))\n",
        "df_dev['fear'] = np.zeros((len(df_dev),1))\n",
        "df_dev['joy'] = np.zeros((len(df_dev),1))\n",
        "df_dev['sadness'] = np.zeros((len(df_dev),1))\n",
        "df_dev['surprise'] = np.zeros((len(df_dev),1))\n",
        "df_dev['neutral'] = np.zeros((len(df_dev),1))"
      ],
      "metadata": {
        "execution": {
          "iopub.status.busy": "2023-12-08T16:33:58.243457Z",
          "iopub.execute_input": "2023-12-08T16:33:58.243750Z",
          "iopub.status.idle": "2023-12-08T16:33:58.261823Z",
          "shell.execute_reply.started": "2023-12-08T16:33:58.243712Z",
          "shell.execute_reply": "2023-12-08T16:33:58.261092Z"
        },
        "trusted": true,
        "id": "SLj5FX5tARn_"
      },
      "execution_count": null,
      "outputs": []
    },
    {
      "cell_type": "code",
      "source": [
        "for i in ['anger', 'disgust', 'fear', 'joy', 'sadness', 'surprise','neutral']:\n",
        "    df_train[i] = df_train['Mapped Emotions'].apply(lambda x: 1 if i in x else 0)\n",
        "    df_dev[i] = df_dev['Mapped Emotions'].apply(lambda x: 1 if i in x else 0)"
      ],
      "metadata": {
        "execution": {
          "iopub.status.busy": "2023-12-08T16:33:58.262880Z",
          "iopub.execute_input": "2023-12-08T16:33:58.263192Z",
          "iopub.status.idle": "2023-12-08T16:33:58.695039Z",
          "shell.execute_reply.started": "2023-12-08T16:33:58.263138Z",
          "shell.execute_reply": "2023-12-08T16:33:58.693991Z"
        },
        "trusted": true,
        "id": "uVqlILrwARoA"
      },
      "execution_count": null,
      "outputs": []
    },
    {
      "cell_type": "code",
      "source": [
        "df_train.head()"
      ],
      "metadata": {
        "execution": {
          "iopub.status.busy": "2023-12-08T16:33:58.696199Z",
          "iopub.execute_input": "2023-12-08T16:33:58.696475Z",
          "iopub.status.idle": "2023-12-08T16:33:58.717030Z",
          "shell.execute_reply.started": "2023-12-08T16:33:58.696448Z",
          "shell.execute_reply": "2023-12-08T16:33:58.716062Z"
        },
        "trusted": true,
        "id": "5eFMCPnpARoA",
        "outputId": "1ba4ffca-8e1a-47d9-e095-c237c2ad8d51"
      },
      "execution_count": null,
      "outputs": [
        {
          "execution_count": 12,
          "output_type": "execute_result",
          "data": {
            "text/plain": "                                                    Text Class       ID  \\\n51994  They're all concerned about keeping the human ...     1  eenv79s   \n77540                                   Saving for later    10  eecnzw1   \n16382  This what happens when you run a lineup that i...    24  efbcibl   \n83439              Let's be real, [NAME] is coming back.    10  eefgsn9   \n61618  Animal Crossing made my wife into a vicious an...     4  ee9l5e3   \n\n            Emotions List of classes  Len of classes Mapped Emotions  anger  \\\n51994      [neutral]             [1]               1       [neutral]      0   \n77540       [desire]            [10]               1           [joy]      0   \n16382  [realization]            [24]               1      [surprise]      0   \n83439       [desire]            [10]               1           [joy]      0   \n61618        [anger]             [4]               1         [anger]      1   \n\n       disgust  fear  joy  sadness  surprise  neutral  \n51994        0     0    0        0         0        1  \n77540        0     0    1        0         0        0  \n16382        0     0    0        0         1        0  \n83439        0     0    1        0         0        0  \n61618        0     0    0        0         0        0  ",
            "text/html": "<div>\n<style scoped>\n    .dataframe tbody tr th:only-of-type {\n        vertical-align: middle;\n    }\n\n    .dataframe tbody tr th {\n        vertical-align: top;\n    }\n\n    .dataframe thead th {\n        text-align: right;\n    }\n</style>\n<table border=\"1\" class=\"dataframe\">\n  <thead>\n    <tr style=\"text-align: right;\">\n      <th></th>\n      <th>Text</th>\n      <th>Class</th>\n      <th>ID</th>\n      <th>Emotions</th>\n      <th>List of classes</th>\n      <th>Len of classes</th>\n      <th>Mapped Emotions</th>\n      <th>anger</th>\n      <th>disgust</th>\n      <th>fear</th>\n      <th>joy</th>\n      <th>sadness</th>\n      <th>surprise</th>\n      <th>neutral</th>\n    </tr>\n  </thead>\n  <tbody>\n    <tr>\n      <th>51994</th>\n      <td>They're all concerned about keeping the human ...</td>\n      <td>1</td>\n      <td>eenv79s</td>\n      <td>[neutral]</td>\n      <td>[1]</td>\n      <td>1</td>\n      <td>[neutral]</td>\n      <td>0</td>\n      <td>0</td>\n      <td>0</td>\n      <td>0</td>\n      <td>0</td>\n      <td>0</td>\n      <td>1</td>\n    </tr>\n    <tr>\n      <th>77540</th>\n      <td>Saving for later</td>\n      <td>10</td>\n      <td>eecnzw1</td>\n      <td>[desire]</td>\n      <td>[10]</td>\n      <td>1</td>\n      <td>[joy]</td>\n      <td>0</td>\n      <td>0</td>\n      <td>0</td>\n      <td>1</td>\n      <td>0</td>\n      <td>0</td>\n      <td>0</td>\n    </tr>\n    <tr>\n      <th>16382</th>\n      <td>This what happens when you run a lineup that i...</td>\n      <td>24</td>\n      <td>efbcibl</td>\n      <td>[realization]</td>\n      <td>[24]</td>\n      <td>1</td>\n      <td>[surprise]</td>\n      <td>0</td>\n      <td>0</td>\n      <td>0</td>\n      <td>0</td>\n      <td>0</td>\n      <td>1</td>\n      <td>0</td>\n    </tr>\n    <tr>\n      <th>83439</th>\n      <td>Let's be real, [NAME] is coming back.</td>\n      <td>10</td>\n      <td>eefgsn9</td>\n      <td>[desire]</td>\n      <td>[10]</td>\n      <td>1</td>\n      <td>[joy]</td>\n      <td>0</td>\n      <td>0</td>\n      <td>0</td>\n      <td>1</td>\n      <td>0</td>\n      <td>0</td>\n      <td>0</td>\n    </tr>\n    <tr>\n      <th>61618</th>\n      <td>Animal Crossing made my wife into a vicious an...</td>\n      <td>4</td>\n      <td>ee9l5e3</td>\n      <td>[anger]</td>\n      <td>[4]</td>\n      <td>1</td>\n      <td>[anger]</td>\n      <td>1</td>\n      <td>0</td>\n      <td>0</td>\n      <td>0</td>\n      <td>0</td>\n      <td>0</td>\n      <td>0</td>\n    </tr>\n  </tbody>\n</table>\n</div>"
          },
          "metadata": {}
        }
      ]
    },
    {
      "cell_type": "code",
      "source": [
        "df_dev.head()"
      ],
      "metadata": {
        "execution": {
          "iopub.status.busy": "2023-12-08T16:33:58.718312Z",
          "iopub.execute_input": "2023-12-08T16:33:58.718652Z",
          "iopub.status.idle": "2023-12-08T16:33:58.741856Z",
          "shell.execute_reply.started": "2023-12-08T16:33:58.718617Z",
          "shell.execute_reply": "2023-12-08T16:33:58.741032Z"
        },
        "trusted": true,
        "id": "ZrWWRMMlARoA",
        "outputId": "843c7b50-530b-47f4-8690-e60082bf2d58"
      },
      "execution_count": null,
      "outputs": [
        {
          "execution_count": 13,
          "output_type": "execute_result",
          "data": {
            "text/plain": "                                                    Text Class       ID  \\\n75721  So how did all the new airmen with you in that...     9  ee0ujgf   \n80184                                      Aw here goes!    24  eeg738k   \n19864  as someone who doesn't wear a kippa at work ou...     8  eedwyb4   \n76699  Huh. Similar things happen to me. Just my big ...    24  edxnylo   \n92991             wouldn't it actually probably be Army?     1  eepiaep   \n\n            Emotions List of classes  Len of classes Mapped Emotions  anger  \\\n75721    [curiosity]             [9]               1      [surprise]      0   \n80184  [realization]            [24]               1      [surprise]      0   \n19864    [confusion]             [8]               1      [surprise]      0   \n76699  [realization]            [24]               1      [surprise]      0   \n92991      [neutral]             [1]               1       [neutral]      0   \n\n       disgust  fear  joy  sadness  surprise  neutral  \n75721        0     0    0        0         1        0  \n80184        0     0    0        0         1        0  \n19864        0     0    0        0         1        0  \n76699        0     0    0        0         1        0  \n92991        0     0    0        0         0        1  ",
            "text/html": "<div>\n<style scoped>\n    .dataframe tbody tr th:only-of-type {\n        vertical-align: middle;\n    }\n\n    .dataframe tbody tr th {\n        vertical-align: top;\n    }\n\n    .dataframe thead th {\n        text-align: right;\n    }\n</style>\n<table border=\"1\" class=\"dataframe\">\n  <thead>\n    <tr style=\"text-align: right;\">\n      <th></th>\n      <th>Text</th>\n      <th>Class</th>\n      <th>ID</th>\n      <th>Emotions</th>\n      <th>List of classes</th>\n      <th>Len of classes</th>\n      <th>Mapped Emotions</th>\n      <th>anger</th>\n      <th>disgust</th>\n      <th>fear</th>\n      <th>joy</th>\n      <th>sadness</th>\n      <th>surprise</th>\n      <th>neutral</th>\n    </tr>\n  </thead>\n  <tbody>\n    <tr>\n      <th>75721</th>\n      <td>So how did all the new airmen with you in that...</td>\n      <td>9</td>\n      <td>ee0ujgf</td>\n      <td>[curiosity]</td>\n      <td>[9]</td>\n      <td>1</td>\n      <td>[surprise]</td>\n      <td>0</td>\n      <td>0</td>\n      <td>0</td>\n      <td>0</td>\n      <td>0</td>\n      <td>1</td>\n      <td>0</td>\n    </tr>\n    <tr>\n      <th>80184</th>\n      <td>Aw here goes!</td>\n      <td>24</td>\n      <td>eeg738k</td>\n      <td>[realization]</td>\n      <td>[24]</td>\n      <td>1</td>\n      <td>[surprise]</td>\n      <td>0</td>\n      <td>0</td>\n      <td>0</td>\n      <td>0</td>\n      <td>0</td>\n      <td>1</td>\n      <td>0</td>\n    </tr>\n    <tr>\n      <th>19864</th>\n      <td>as someone who doesn't wear a kippa at work ou...</td>\n      <td>8</td>\n      <td>eedwyb4</td>\n      <td>[confusion]</td>\n      <td>[8]</td>\n      <td>1</td>\n      <td>[surprise]</td>\n      <td>0</td>\n      <td>0</td>\n      <td>0</td>\n      <td>0</td>\n      <td>0</td>\n      <td>1</td>\n      <td>0</td>\n    </tr>\n    <tr>\n      <th>76699</th>\n      <td>Huh. Similar things happen to me. Just my big ...</td>\n      <td>24</td>\n      <td>edxnylo</td>\n      <td>[realization]</td>\n      <td>[24]</td>\n      <td>1</td>\n      <td>[surprise]</td>\n      <td>0</td>\n      <td>0</td>\n      <td>0</td>\n      <td>0</td>\n      <td>0</td>\n      <td>1</td>\n      <td>0</td>\n    </tr>\n    <tr>\n      <th>92991</th>\n      <td>wouldn't it actually probably be Army?</td>\n      <td>1</td>\n      <td>eepiaep</td>\n      <td>[neutral]</td>\n      <td>[1]</td>\n      <td>1</td>\n      <td>[neutral]</td>\n      <td>0</td>\n      <td>0</td>\n      <td>0</td>\n      <td>0</td>\n      <td>0</td>\n      <td>0</td>\n      <td>1</td>\n    </tr>\n  </tbody>\n</table>\n</div>"
          },
          "metadata": {}
        }
      ]
    },
    {
      "cell_type": "code",
      "source": [
        "df_train.drop(df_train[df_train['neutral'] == 1].index, inplace=True)\n",
        "df_dev.drop(df_dev[df_dev['neutral'] == 1].index, inplace=True)\n",
        "df_train.drop(df_train[df_train['disgust'] == 1].index, inplace=True)\n",
        "df_dev.drop(df_dev[df_dev['disgust'] == 1].index, inplace=True)"
      ],
      "metadata": {
        "execution": {
          "iopub.status.busy": "2023-12-08T16:33:58.743297Z",
          "iopub.execute_input": "2023-12-08T16:33:58.743647Z",
          "iopub.status.idle": "2023-12-08T16:33:58.832396Z",
          "shell.execute_reply.started": "2023-12-08T16:33:58.743612Z",
          "shell.execute_reply": "2023-12-08T16:33:58.831731Z"
        },
        "trusted": true,
        "id": "KWKEwW-nARoB"
      },
      "execution_count": null,
      "outputs": []
    },
    {
      "cell_type": "code",
      "source": [
        "df_train.drop(['Class', 'List of classes', 'Len of classes', 'Emotions', 'Mapped Emotions', 'neutral', 'disgust'], axis=1, inplace=True)\n",
        "df_dev.drop(['Class', 'List of classes', 'Len of classes', 'Emotions', 'Mapped Emotions', 'neutral', 'disgust'], axis=1, inplace=True)"
      ],
      "metadata": {
        "execution": {
          "iopub.status.busy": "2023-12-08T16:33:58.833650Z",
          "iopub.execute_input": "2023-12-08T16:33:58.834087Z",
          "iopub.status.idle": "2023-12-08T16:33:58.846983Z",
          "shell.execute_reply.started": "2023-12-08T16:33:58.834053Z",
          "shell.execute_reply": "2023-12-08T16:33:58.846150Z"
        },
        "trusted": true,
        "id": "RtjdH-qHARoB"
      },
      "execution_count": null,
      "outputs": []
    },
    {
      "cell_type": "code",
      "source": [
        "contraction_mapping = {\"ain't\": \"is not\", \"aren't\": \"are not\",\"can't\": \"cannot\", \"'cause\": \"because\", \"could've\": \"could have\", \"couldn't\": \"could not\",\n",
        "                       \"didn't\": \"did not\",  \"doesn't\": \"does not\", \"don't\": \"do not\", \"hadn't\": \"had not\", \"hasn't\": \"has not\", \"haven't\": \"have not\",\n",
        "                       \"he'd\": \"he would\",\"he'll\": \"he will\", \"he's\": \"he is\", \"how'd\": \"how did\", \"how'd'y\": \"how do you\", \"how'll\": \"how will\",\n",
        "                       \"how's\": \"how is\",  \"I'd\": \"I would\", \"I'd've\": \"I would have\", \"I'll\": \"I will\", \"I'll've\": \"I will have\",\"I'm\": \"I am\",\n",
        "                       \"I've\": \"I have\", \"i'd\": \"i would\", \"i'd've\": \"i would have\", \"i'll\": \"i will\",  \"i'll've\": \"i will have\",\"i'm\": \"i am\",\n",
        "                       \"i've\": \"i have\", \"isn't\": \"is not\", \"it'd\": \"it would\", \"it'd've\": \"it would have\", \"it'll\": \"it will\", \"it'll've\": \"it will have\",\n",
        "                       \"it's\": \"it is\", \"let's\": \"let us\", \"ma'am\": \"madam\", \"mayn't\": \"may not\", \"might've\": \"might have\",\"mightn't\": \"might not\",\n",
        "                       \"mightn't've\": \"might not have\", \"must've\": \"must have\", \"mustn't\": \"must not\", \"mustn't've\": \"must not have\", \"needn't\": \"need not\",\n",
        "                       \"needn't've\": \"need not have\",\"o'clock\": \"of the clock\", \"oughtn't\": \"ought not\", \"oughtn't've\": \"ought not have\", \"shan't\": \"shall not\",\n",
        "                       \"sha'n't\": \"shall not\", \"shan't've\": \"shall not have\", \"she'd\": \"she would\", \"she'd've\": \"she would have\", \"she'll\": \"she will\",\n",
        "                       \"she'll've\": \"she will have\", \"she's\": \"she is\", \"should've\": \"should have\", \"shouldn't\": \"should not\", \"shouldn't've\": \"should not have\",\n",
        "                       \"so've\": \"so have\",\"so's\": \"so as\", \"this's\": \"this is\",\"that'd\": \"that would\", \"that'd've\": \"that would have\", \"that's\": \"that is\",\n",
        "                       \"there'd\": \"there would\", \"there'd've\": \"there would have\", \"there's\": \"there is\", \"here's\": \"here is\",\"they'd\": \"they would\",\n",
        "                       \"they'd've\": \"they would have\", \"they'll\": \"they will\", \"they'll've\": \"they will have\", \"they're\": \"they are\", \"they've\": \"they have\",\n",
        "                       \"to've\": \"to have\", \"wasn't\": \"was not\", \"we'd\": \"we would\", \"we'd've\": \"we would have\", \"we'll\": \"we will\", \"we'll've\": \"we will have\",\n",
        "                       \"we're\": \"we are\", \"we've\": \"we have\", \"weren't\": \"were not\", \"what'll\": \"what will\", \"what'll've\": \"what will have\",\n",
        "                       \"what're\": \"what are\",  \"what's\": \"what is\", \"what've\": \"what have\", \"when's\": \"when is\", \"when've\": \"when have\", \"where'd\": \"where did\",\n",
        "                       \"where's\": \"where is\", \"where've\": \"where have\", \"who'll\": \"who will\", \"who'll've\": \"who will have\", \"who's\": \"who is\",\n",
        "                       \"who've\": \"who have\", \"why's\": \"why is\", \"why've\": \"why have\", \"will've\": \"will have\", \"won't\": \"will not\", \"won't've\": \"will not have\",\n",
        "                       \"would've\": \"would have\", \"wouldn't\": \"would not\", \"wouldn't've\": \"would not have\", \"y'all\": \"you all\", \"y'all'd\": \"you all would\",\n",
        "                       \"y'all'd've\": \"you all would have\",\"y'all're\": \"you all are\",\"y'all've\": \"you all have\",\"you'd\": \"you would\", \"you'd've\": \"you would have\",\n",
        "                       \"you'll\": \"you will\", \"you'll've\": \"you will have\", \"you're\": \"you are\", \"you've\": \"you have\", 'u.s':'america', 'e.g':'for example'}\n",
        "\n",
        "punct = [',', '.', '\"', ':', ')', '(', '-', '!', '?', '|', ';', \"'\", '$', '&', '/', '[', ']', '>', '%', '=', '#', '*', '+', '\\\\', '•',  '~', '@', '£',\n",
        " '·', '_', '{', '}', '©', '^', '®', '`',  '<', '→', '°', '€', '™', '›',  '♥', '←', '×', '§', '″', '′', 'Â', '█', '½', 'à', '…',\n",
        " '“', '★', '”', '–', '●', 'â', '►', '−', '¢', '²', '¬', '░', '¶', '↑', '±', '¿', '▾', '═', '¦', '║', '―', '¥', '▓', '—', '‹', '─',\n",
        " '▒', '：', '¼', '⊕', '▼', '▪', '†', '■', '’', '▀', '¨', '▄', '♫', '☆', 'é', '¯', '♦', '¤', '▲', 'è', '¸', '¾', 'Ã', '⋅', '‘', '∞',\n",
        " '∙', '）', '↓', '、', '│', '（', '»', '，', '♪', '╩', '╚', '³', '・', '╦', '╣', '╔', '╗', '▬', '❤', 'ï', 'Ø', '¹', '≤', '‡', '√', ]\n",
        "\n",
        "punct_mapping = {\"‘\": \"'\", \"₹\": \"e\", \"´\": \"'\", \"°\": \"\", \"€\": \"e\", \"™\": \"tm\", \"√\": \" sqrt \", \"×\": \"x\", \"²\": \"2\", \"—\": \"-\", \"–\": \"-\", \"’\": \"'\", \"_\": \"-\",\n",
        "                 \"`\": \"'\", '“': '\"', '”': '\"', '“': '\"', \"£\": \"e\", '∞': 'infinity', 'θ': 'theta', '÷': '/', 'α': 'alpha', '•': '.', 'à': 'a', '−': '-',\n",
        "                 'β': 'beta', '∅': '', '³': '3', 'π': 'pi', '!':' '}\n",
        "\n",
        "mispell_dict = {'colour': 'color', 'centre': 'center', 'favourite': 'favorite', 'travelling': 'traveling', 'counselling': 'counseling', 'theatre': 'theater',\n",
        "                'cancelled': 'canceled', 'labour': 'labor', 'organisation': 'organization', 'wwii': 'world war 2', 'citicise': 'criticize', 'youtu ': 'youtube ',\n",
        "                'Qoura': 'Quora', 'sallary': 'salary', 'Whta': 'What', 'narcisist': 'narcissist', 'howdo': 'how do', 'whatare': 'what are', 'howcan': 'how can',\n",
        "                'howmuch': 'how much', 'howmany': 'how many', 'whydo': 'why do', 'doI': 'do I', 'theBest': 'the best', 'howdoes': 'how does',\n",
        "                'mastrubation': 'masturbation', 'mastrubate': 'masturbate', \"mastrubating\": 'masturbating', 'pennis': 'penis', 'Etherium': 'Ethereum',\n",
        "                'narcissit': 'narcissist', 'bigdata': 'big data', '2k17': '2017', '2k18': '2018', 'qouta': 'quota', 'exboyfriend': 'ex boyfriend',\n",
        "                'airhostess': 'air hostess', \"whst\": 'what', 'watsapp': 'whatsapp', 'demonitisation': 'demonetization', 'demonitization': 'demonetization',\n",
        "                'demonetisation': 'demonetization'}"
      ],
      "metadata": {
        "execution": {
          "iopub.status.busy": "2023-12-08T16:33:58.848425Z",
          "iopub.execute_input": "2023-12-08T16:33:58.848782Z",
          "iopub.status.idle": "2023-12-08T16:33:58.875638Z",
          "shell.execute_reply.started": "2023-12-08T16:33:58.848752Z",
          "shell.execute_reply": "2023-12-08T16:33:58.874884Z"
        },
        "trusted": true,
        "id": "nrFpIUrvARoB"
      },
      "execution_count": null,
      "outputs": []
    },
    {
      "cell_type": "code",
      "source": [
        "def clean_text(text):\n",
        "    '''Clean emoji, Make text lowercase, remove text in square brackets,remove links,remove punctuation\n",
        "    and remove words containing numbers.'''\n",
        "    text = emoji.demojize(text)\n",
        "    text = re.sub(r'\\:(.*?)\\:','',text)\n",
        "    text = str(text).lower()    #Making Text Lowercase\n",
        "    text = re.sub('\\[.*?\\]', '', text)\n",
        "    #The next 2 lines remove html text\n",
        "    text = BeautifulSoup(text, 'lxml').get_text()\n",
        "    text = re.sub('https?://\\S+|www\\.\\S+', '', text)\n",
        "    text = re.sub('<.*?>+', '', text)\n",
        "    text = re.sub('\\n', '', text)\n",
        "    text = re.sub('\\w*\\d\\w*', '', text)\n",
        "    # replacing everything with space except (a-z, A-Z, \".\", \"?\", \"!\", \",\", \"'\")\n",
        "    text = re.sub(r\"[^a-zA-Z?.!,¿']+\", \" \", text)\n",
        "    return text\n",
        "\n",
        "def clean_contractions(text, mapping):\n",
        "    '''Clean contraction using contraction mapping'''\n",
        "    specials = [\"’\", \"‘\", \"´\", \"`\"]\n",
        "    for s in specials:\n",
        "        text = text.replace(s, \"'\")\n",
        "    for word in mapping.keys():\n",
        "        if \"\"+word+\"\" in text:\n",
        "            text = text.replace(\"\"+word+\"\", \"\"+mapping[word]+\"\")\n",
        "    #Remove Punctuations\n",
        "    text = re.sub('[%s]' % re.escape(string.punctuation), '', text)\n",
        "    # creating a space between a word and the punctuation following it\n",
        "    # eg: \"he is a boy.\" => \"he is a boy .\"\n",
        "    text = re.sub(r\"([?.!,¿])\", r\" \\1 \", text)\n",
        "    text = re.sub(r'[\" \"]+', \" \", text)\n",
        "    return text\n",
        "\n",
        "def clean_special_chars(text, punct, mapping):\n",
        "    '''Cleans special characters present(if any)'''\n",
        "    for p in mapping:\n",
        "        text = text.replace(p, mapping[p])\n",
        "\n",
        "    for p in punct:\n",
        "        text = text.replace(p, f' {p} ')\n",
        "\n",
        "    specials = {'\\u200b': ' ', '…': ' ... ', '\\ufeff': '', 'करना': '', 'है': ''}\n",
        "    for s in specials:\n",
        "        text = text.replace(s, specials[s])\n",
        "\n",
        "    return text\n",
        "\n",
        "def correct_spelling(x, dic):\n",
        "    '''Corrects common spelling errors'''\n",
        "    for word in dic.keys():\n",
        "        x = x.replace(word, dic[word])\n",
        "    return x\n",
        "\n",
        "def remove_space(text):\n",
        "    '''Removes awkward spaces'''\n",
        "    #Removes awkward spaces\n",
        "    text = text.strip()\n",
        "    text = text.split()\n",
        "    return \" \".join(text)\n",
        "\n",
        "def text_preprocessing_pipeline(text):\n",
        "    '''Cleaning and parsing the text.'''\n",
        "    text = clean_text(text)\n",
        "    text = clean_contractions(text, contraction_mapping)\n",
        "    text = clean_special_chars(text, punct, punct_mapping)\n",
        "    text = correct_spelling(text, mispell_dict)\n",
        "    text = remove_space(text)\n",
        "    return text"
      ],
      "metadata": {
        "execution": {
          "iopub.status.busy": "2023-12-08T16:33:58.877046Z",
          "iopub.execute_input": "2023-12-08T16:33:58.877360Z",
          "iopub.status.idle": "2023-12-08T16:33:58.893246Z",
          "shell.execute_reply.started": "2023-12-08T16:33:58.877332Z",
          "shell.execute_reply": "2023-12-08T16:33:58.892475Z"
        },
        "trusted": true,
        "id": "yJ3UL8fFARoC"
      },
      "execution_count": null,
      "outputs": []
    },
    {
      "cell_type": "code",
      "source": [
        "# df_train['Text'] = df_train['Text'].apply(text_preprocessing_pipeline)\n",
        "# df_dev['Text'] = df_dev['Text'].apply(text_preprocessing_pipeline)"
      ],
      "metadata": {
        "execution": {
          "iopub.status.busy": "2023-12-08T16:33:58.894330Z",
          "iopub.execute_input": "2023-12-08T16:33:58.894639Z",
          "iopub.status.idle": "2023-12-08T16:33:58.904993Z",
          "shell.execute_reply.started": "2023-12-08T16:33:58.894611Z",
          "shell.execute_reply": "2023-12-08T16:33:58.904286Z"
        },
        "trusted": true,
        "id": "h5YB2_bKARoC"
      },
      "execution_count": null,
      "outputs": []
    },
    {
      "cell_type": "code",
      "source": [
        "df_train.reset_index(drop=True).to_csv(\"train.csv\", index=False)\n",
        "df_dev.reset_index(drop=True).to_csv(\"val.csv\", index=False)"
      ],
      "metadata": {
        "execution": {
          "iopub.status.busy": "2023-12-08T16:33:58.906012Z",
          "iopub.execute_input": "2023-12-08T16:33:58.906312Z",
          "iopub.status.idle": "2023-12-08T16:33:59.549285Z",
          "shell.execute_reply.started": "2023-12-08T16:33:58.906285Z",
          "shell.execute_reply": "2023-12-08T16:33:59.548517Z"
        },
        "trusted": true,
        "id": "wZqec5zQARoD"
      },
      "execution_count": null,
      "outputs": []
    },
    {
      "cell_type": "code",
      "source": [
        "df_train = df_train.reset_index(drop=True)\n",
        "df_dev = df_dev.reset_index(drop=True)"
      ],
      "metadata": {
        "execution": {
          "iopub.status.busy": "2023-12-08T16:33:59.550430Z",
          "iopub.execute_input": "2023-12-08T16:33:59.550733Z",
          "iopub.status.idle": "2023-12-08T16:33:59.557353Z",
          "shell.execute_reply.started": "2023-12-08T16:33:59.550676Z",
          "shell.execute_reply": "2023-12-08T16:33:59.556586Z"
        },
        "trusted": true,
        "id": "Y7UxdfSvARoD"
      },
      "execution_count": null,
      "outputs": []
    },
    {
      "cell_type": "code",
      "source": [
        "df_train.head()"
      ],
      "metadata": {
        "execution": {
          "iopub.status.busy": "2023-12-08T16:33:59.558752Z",
          "iopub.execute_input": "2023-12-08T16:33:59.559034Z",
          "iopub.status.idle": "2023-12-08T16:33:59.577002Z",
          "shell.execute_reply.started": "2023-12-08T16:33:59.559008Z",
          "shell.execute_reply": "2023-12-08T16:33:59.576198Z"
        },
        "trusted": true,
        "id": "vd9Km5aOARoD",
        "outputId": "f733a43c-228d-4343-8508-65cde28f2721"
      },
      "execution_count": null,
      "outputs": [
        {
          "execution_count": 21,
          "output_type": "execute_result",
          "data": {
            "text/plain": "                                                Text       ID  anger  fear  \\\n0                                   Saving for later  eecnzw1      0     0   \n1  This what happens when you run a lineup that i...  efbcibl      0     0   \n2              Let's be real, [NAME] is coming back.  eefgsn9      0     0   \n3  Animal Crossing made my wife into a vicious an...  ee9l5e3      1     0   \n4  The perfectly timed dessert, and delicious loo...  efa76qz      0     0   \n\n   joy  sadness  surprise  \n0    1        0         0  \n1    0        0         1  \n2    1        0         0  \n3    0        0         0  \n4    1        0         0  ",
            "text/html": "<div>\n<style scoped>\n    .dataframe tbody tr th:only-of-type {\n        vertical-align: middle;\n    }\n\n    .dataframe tbody tr th {\n        vertical-align: top;\n    }\n\n    .dataframe thead th {\n        text-align: right;\n    }\n</style>\n<table border=\"1\" class=\"dataframe\">\n  <thead>\n    <tr style=\"text-align: right;\">\n      <th></th>\n      <th>Text</th>\n      <th>ID</th>\n      <th>anger</th>\n      <th>fear</th>\n      <th>joy</th>\n      <th>sadness</th>\n      <th>surprise</th>\n    </tr>\n  </thead>\n  <tbody>\n    <tr>\n      <th>0</th>\n      <td>Saving for later</td>\n      <td>eecnzw1</td>\n      <td>0</td>\n      <td>0</td>\n      <td>1</td>\n      <td>0</td>\n      <td>0</td>\n    </tr>\n    <tr>\n      <th>1</th>\n      <td>This what happens when you run a lineup that i...</td>\n      <td>efbcibl</td>\n      <td>0</td>\n      <td>0</td>\n      <td>0</td>\n      <td>0</td>\n      <td>1</td>\n    </tr>\n    <tr>\n      <th>2</th>\n      <td>Let's be real, [NAME] is coming back.</td>\n      <td>eefgsn9</td>\n      <td>0</td>\n      <td>0</td>\n      <td>1</td>\n      <td>0</td>\n      <td>0</td>\n    </tr>\n    <tr>\n      <th>3</th>\n      <td>Animal Crossing made my wife into a vicious an...</td>\n      <td>ee9l5e3</td>\n      <td>1</td>\n      <td>0</td>\n      <td>0</td>\n      <td>0</td>\n      <td>0</td>\n    </tr>\n    <tr>\n      <th>4</th>\n      <td>The perfectly timed dessert, and delicious loo...</td>\n      <td>efa76qz</td>\n      <td>0</td>\n      <td>0</td>\n      <td>1</td>\n      <td>0</td>\n      <td>0</td>\n    </tr>\n  </tbody>\n</table>\n</div>"
          },
          "metadata": {}
        }
      ]
    },
    {
      "cell_type": "code",
      "source": [
        "print(df_train.shape)\n",
        "print(df_dev.shape)"
      ],
      "metadata": {
        "execution": {
          "iopub.status.busy": "2023-12-08T16:33:59.578108Z",
          "iopub.execute_input": "2023-12-08T16:33:59.578417Z",
          "iopub.status.idle": "2023-12-08T16:33:59.586588Z",
          "shell.execute_reply.started": "2023-12-08T16:33:59.578389Z",
          "shell.execute_reply": "2023-12-08T16:33:59.585713Z"
        },
        "trusted": true,
        "id": "xieCrJZcARoE",
        "outputId": "7dfce217-67b2-4865-c94a-771d8fe3ebb9"
      },
      "execution_count": null,
      "outputs": [
        {
          "name": "stdout",
          "text": "(65031, 7)\n(7207, 7)\n",
          "output_type": "stream"
        }
      ]
    },
    {
      "cell_type": "code",
      "source": [
        "device = 'cuda' if torch.cuda.is_available() else 'cpu'"
      ],
      "metadata": {
        "execution": {
          "iopub.status.busy": "2023-12-08T16:33:59.587801Z",
          "iopub.execute_input": "2023-12-08T16:33:59.588074Z",
          "iopub.status.idle": "2023-12-08T16:33:59.653613Z",
          "shell.execute_reply.started": "2023-12-08T16:33:59.588049Z",
          "shell.execute_reply": "2023-12-08T16:33:59.652734Z"
        },
        "trusted": true,
        "id": "3MWn99OGARoE"
      },
      "execution_count": null,
      "outputs": []
    },
    {
      "cell_type": "code",
      "source": [
        "# Sections of config\n",
        "\n",
        "# Defining some key variables that will be used later on in the training\n",
        "MAX_LEN = 200\n",
        "TRAIN_BATCH_SIZE = 64\n",
        "VALID_BATCH_SIZE = 64\n",
        "EPOCHS = 10\n",
        "LEARNING_RATE = 2e-5\n",
        "tokenizer = AutoTokenizer.from_pretrained('roberta-base')"
      ],
      "metadata": {
        "execution": {
          "iopub.status.busy": "2023-12-08T16:33:59.654781Z",
          "iopub.execute_input": "2023-12-08T16:33:59.655064Z",
          "iopub.status.idle": "2023-12-08T16:34:04.600884Z",
          "shell.execute_reply.started": "2023-12-08T16:33:59.655037Z",
          "shell.execute_reply": "2023-12-08T16:34:04.600186Z"
        },
        "trusted": true,
        "id": "7NZMPA_uARoE",
        "outputId": "693d7fa5-d899-4a2f-bfd6-c3975017e20d",
        "colab": {
          "referenced_widgets": [
            "dbd80629c1494061b7e618e282d0407e",
            "423783a985654e01aa1300a3ada5d56f",
            "530cb7f88cc5442bac7c35fa9400358e",
            "6c2eed35e04b440ab7d46353e0524f54"
          ]
        }
      },
      "execution_count": null,
      "outputs": [
        {
          "output_type": "display_data",
          "data": {
            "text/plain": "Downloading:   0%|          | 0.00/481 [00:00<?, ?B/s]",
            "application/vnd.jupyter.widget-view+json": {
              "version_major": 2,
              "version_minor": 0,
              "model_id": "dbd80629c1494061b7e618e282d0407e"
            }
          },
          "metadata": {}
        },
        {
          "output_type": "display_data",
          "data": {
            "text/plain": "Downloading:   0%|          | 0.00/899k [00:00<?, ?B/s]",
            "application/vnd.jupyter.widget-view+json": {
              "version_major": 2,
              "version_minor": 0,
              "model_id": "423783a985654e01aa1300a3ada5d56f"
            }
          },
          "metadata": {}
        },
        {
          "output_type": "display_data",
          "data": {
            "text/plain": "Downloading:   0%|          | 0.00/456k [00:00<?, ?B/s]",
            "application/vnd.jupyter.widget-view+json": {
              "version_major": 2,
              "version_minor": 0,
              "model_id": "530cb7f88cc5442bac7c35fa9400358e"
            }
          },
          "metadata": {}
        },
        {
          "output_type": "display_data",
          "data": {
            "text/plain": "Downloading:   0%|          | 0.00/1.36M [00:00<?, ?B/s]",
            "application/vnd.jupyter.widget-view+json": {
              "version_major": 2,
              "version_minor": 0,
              "model_id": "6c2eed35e04b440ab7d46353e0524f54"
            }
          },
          "metadata": {}
        }
      ]
    },
    {
      "cell_type": "code",
      "source": [
        "target_cols = [col for col in df_train.columns if col not in ['Text', 'ID']]\n",
        "target_cols"
      ],
      "metadata": {
        "execution": {
          "iopub.status.busy": "2023-12-08T16:34:04.602292Z",
          "iopub.execute_input": "2023-12-08T16:34:04.602662Z",
          "iopub.status.idle": "2023-12-08T16:34:04.608979Z",
          "shell.execute_reply.started": "2023-12-08T16:34:04.602623Z",
          "shell.execute_reply": "2023-12-08T16:34:04.608172Z"
        },
        "trusted": true,
        "id": "AVaeAOLNARoE",
        "outputId": "cf4f21b6-43a6-4547-dd07-9b802a0982f3"
      },
      "execution_count": null,
      "outputs": [
        {
          "execution_count": 25,
          "output_type": "execute_result",
          "data": {
            "text/plain": "['anger', 'fear', 'joy', 'sadness', 'surprise']"
          },
          "metadata": {}
        }
      ]
    },
    {
      "cell_type": "code",
      "source": [
        "class BERTDataset(Dataset):\n",
        "    def __init__(self, df, tokenizer, max_len):\n",
        "        self.df = df\n",
        "        self.max_len = max_len\n",
        "        self.text = df.Text\n",
        "        self.tokenizer = tokenizer\n",
        "        self.targets = df[target_cols].values\n",
        "\n",
        "    def __len__(self):\n",
        "        return len(self.df)\n",
        "\n",
        "    def __getitem__(self, index):\n",
        "        text = self.text[index]\n",
        "        inputs = self.tokenizer.encode_plus(\n",
        "            text,\n",
        "            truncation=True,\n",
        "            add_special_tokens=True,\n",
        "            max_length=self.max_len,\n",
        "            padding='max_length',\n",
        "            return_token_type_ids=True\n",
        "        )\n",
        "        ids = inputs['input_ids']\n",
        "        mask = inputs['attention_mask']\n",
        "        token_type_ids = inputs[\"token_type_ids\"]\n",
        "\n",
        "        return {\n",
        "            'ids': torch.tensor(ids, dtype=torch.long),\n",
        "            'mask': torch.tensor(mask, dtype=torch.long),\n",
        "            'token_type_ids': torch.tensor(token_type_ids, dtype=torch.long),\n",
        "            'targets': torch.tensor(self.targets[index], dtype=torch.float)\n",
        "        }"
      ],
      "metadata": {
        "execution": {
          "iopub.status.busy": "2023-12-08T16:34:04.610350Z",
          "iopub.execute_input": "2023-12-08T16:34:04.610729Z",
          "iopub.status.idle": "2023-12-08T16:34:04.620345Z",
          "shell.execute_reply.started": "2023-12-08T16:34:04.610672Z",
          "shell.execute_reply": "2023-12-08T16:34:04.619487Z"
        },
        "trusted": true,
        "id": "r-pWqCMUARoF"
      },
      "execution_count": null,
      "outputs": []
    },
    {
      "cell_type": "code",
      "source": [
        "train_dataset = BERTDataset(df_train, tokenizer, MAX_LEN)\n",
        "valid_dataset = BERTDataset(df_dev, tokenizer, MAX_LEN)"
      ],
      "metadata": {
        "execution": {
          "iopub.status.busy": "2023-12-08T16:34:04.621436Z",
          "iopub.execute_input": "2023-12-08T16:34:04.621715Z",
          "iopub.status.idle": "2023-12-08T16:34:04.636748Z",
          "shell.execute_reply.started": "2023-12-08T16:34:04.621667Z",
          "shell.execute_reply": "2023-12-08T16:34:04.635980Z"
        },
        "trusted": true,
        "id": "rQZjFE8XARoF"
      },
      "execution_count": null,
      "outputs": []
    },
    {
      "cell_type": "code",
      "source": [
        "train_loader = DataLoader(train_dataset, batch_size=TRAIN_BATCH_SIZE,\n",
        "                          num_workers=4, shuffle=True, pin_memory=True)\n",
        "valid_loader = DataLoader(valid_dataset, batch_size=VALID_BATCH_SIZE,\n",
        "                          num_workers=4, shuffle=False, pin_memory=True)"
      ],
      "metadata": {
        "execution": {
          "iopub.status.busy": "2023-12-08T16:34:04.637952Z",
          "iopub.execute_input": "2023-12-08T16:34:04.638216Z",
          "iopub.status.idle": "2023-12-08T16:34:04.647848Z",
          "shell.execute_reply.started": "2023-12-08T16:34:04.638190Z",
          "shell.execute_reply": "2023-12-08T16:34:04.647098Z"
        },
        "trusted": true,
        "id": "FWN7JWmfARoF"
      },
      "execution_count": null,
      "outputs": []
    },
    {
      "cell_type": "code",
      "source": [
        "# Creating the customized model, by adding a drop out and a dense layer on top of distil bert to get the final output for the model.\n",
        "\n",
        "class BERTClass(torch.nn.Module):\n",
        "    def __init__(self):\n",
        "        super(BERTClass, self).__init__()\n",
        "        self.roberta = AutoModel.from_pretrained('roberta-base')\n",
        "#         self.l2 = torch.nn.Dropout(0.3)\n",
        "        self.fc = torch.nn.Linear(768,5)\n",
        "\n",
        "    def forward(self, ids, mask, token_type_ids):\n",
        "        _, features = self.roberta(ids, attention_mask = mask, token_type_ids = token_type_ids, return_dict=False)\n",
        "#         output_2 = self.l2(output_1)\n",
        "        output = self.fc(features)\n",
        "        return output\n",
        "\n",
        "model = BERTClass()\n",
        "model.to(device);"
      ],
      "metadata": {
        "execution": {
          "iopub.status.busy": "2023-12-08T16:34:04.648990Z",
          "iopub.execute_input": "2023-12-08T16:34:04.649355Z",
          "iopub.status.idle": "2023-12-08T16:34:23.733081Z",
          "shell.execute_reply.started": "2023-12-08T16:34:04.649316Z",
          "shell.execute_reply": "2023-12-08T16:34:23.732049Z"
        },
        "trusted": true,
        "id": "rf8otGobARoF",
        "outputId": "1b8de0b6-9d6c-4ea9-ddf1-9822c20a4fd9",
        "colab": {
          "referenced_widgets": [
            "f2789a5f5c1b4ffeac93ff0e7b7c214d"
          ]
        }
      },
      "execution_count": null,
      "outputs": [
        {
          "output_type": "display_data",
          "data": {
            "text/plain": "Downloading:   0%|          | 0.00/501M [00:00<?, ?B/s]",
            "application/vnd.jupyter.widget-view+json": {
              "version_major": 2,
              "version_minor": 0,
              "model_id": "f2789a5f5c1b4ffeac93ff0e7b7c214d"
            }
          },
          "metadata": {}
        }
      ]
    },
    {
      "cell_type": "code",
      "source": [
        "def loss_fn(outputs, targets):\n",
        "    return torch.nn.BCEWithLogitsLoss()(outputs, targets)"
      ],
      "metadata": {
        "execution": {
          "iopub.status.busy": "2023-12-08T16:34:23.734388Z",
          "iopub.execute_input": "2023-12-08T16:34:23.734715Z",
          "iopub.status.idle": "2023-12-08T16:34:23.738518Z",
          "shell.execute_reply.started": "2023-12-08T16:34:23.734665Z",
          "shell.execute_reply": "2023-12-08T16:34:23.737628Z"
        },
        "trusted": true,
        "id": "U-eTKZZZARoF"
      },
      "execution_count": null,
      "outputs": []
    },
    {
      "cell_type": "code",
      "source": [
        "optimizer = AdamW(params =  model.parameters(), lr=LEARNING_RATE, weight_decay=1e-6)"
      ],
      "metadata": {
        "execution": {
          "iopub.status.busy": "2023-12-08T16:34:23.739643Z",
          "iopub.execute_input": "2023-12-08T16:34:23.739977Z",
          "iopub.status.idle": "2023-12-08T16:34:23.758928Z",
          "shell.execute_reply.started": "2023-12-08T16:34:23.739947Z",
          "shell.execute_reply": "2023-12-08T16:34:23.758092Z"
        },
        "trusted": true,
        "id": "OTHq3DUnARoG"
      },
      "execution_count": null,
      "outputs": []
    },
    {
      "cell_type": "code",
      "source": [
        "def train(epoch):\n",
        "    model.train()\n",
        "    total_loss = 0.0\n",
        "\n",
        "    for _, data in enumerate(train_loader, 0):\n",
        "        ids = data['ids'].to(device, dtype=torch.long)\n",
        "        mask = data['mask'].to(device, dtype=torch.long)\n",
        "        token_type_ids = data['token_type_ids'].to(device, dtype=torch.long)\n",
        "        targets = data['targets'].to(device, dtype=torch.float)\n",
        "\n",
        "        outputs = model(ids, mask, token_type_ids)\n",
        "\n",
        "        loss = loss_fn(outputs, targets)\n",
        "        total_loss += loss.item()\n",
        "\n",
        "        loss.backward()\n",
        "        optimizer.step()\n",
        "        optimizer.zero_grad()\n",
        "\n",
        "        if _ % 500 == 0:\n",
        "            print(f'Epoch: {epoch}, Iteration: {_}, Loss: {loss.item()}')\n",
        "\n",
        "    # Calculate the average loss for the epoch\n",
        "    average_loss = total_loss / len(train_loader)\n",
        "    print(f'Epoch: {epoch}, Average Loss: {average_loss}')\n"
      ],
      "metadata": {
        "execution": {
          "iopub.status.busy": "2023-12-08T16:34:23.760158Z",
          "iopub.execute_input": "2023-12-08T16:34:23.760461Z",
          "iopub.status.idle": "2023-12-08T16:34:23.771447Z",
          "shell.execute_reply.started": "2023-12-08T16:34:23.760432Z",
          "shell.execute_reply": "2023-12-08T16:34:23.770739Z"
        },
        "trusted": true,
        "id": "EmKlTSTAARoG"
      },
      "execution_count": null,
      "outputs": []
    },
    {
      "cell_type": "code",
      "source": [
        "for epoch in range(EPOCHS):\n",
        "    train(epoch)"
      ],
      "metadata": {
        "execution": {
          "iopub.status.busy": "2023-12-08T16:34:23.772505Z",
          "iopub.execute_input": "2023-12-08T16:34:23.772802Z",
          "iopub.status.idle": "2023-12-08T19:49:38.984146Z",
          "shell.execute_reply.started": "2023-12-08T16:34:23.772774Z",
          "shell.execute_reply": "2023-12-08T19:49:38.983145Z"
        },
        "trusted": true,
        "id": "eFZHznFzARoG",
        "outputId": "f10c0c75-ed8f-4409-ad6c-8e6732a3e538"
      },
      "execution_count": null,
      "outputs": [
        {
          "name": "stdout",
          "text": "Epoch: 0, Iteration: 0, Loss: 0.7131611704826355\nEpoch: 0, Iteration: 500, Loss: 0.27055975794792175\nEpoch: 0, Iteration: 1000, Loss: 0.20270876586437225\nEpoch: 0, Average Loss: 0.28645258596864775\nEpoch: 1, Iteration: 0, Loss: 0.2658943831920624\nEpoch: 1, Iteration: 500, Loss: 0.24171829223632812\nEpoch: 1, Iteration: 1000, Loss: 0.18633298575878143\nEpoch: 1, Average Loss: 0.24898750343036746\nEpoch: 2, Iteration: 0, Loss: 0.2588074207305908\nEpoch: 2, Iteration: 500, Loss: 0.2980426251888275\nEpoch: 2, Iteration: 1000, Loss: 0.22261419892311096\nEpoch: 2, Average Loss: 0.23249580432004283\nEpoch: 3, Iteration: 0, Loss: 0.22993206977844238\nEpoch: 3, Iteration: 500, Loss: 0.2664353549480438\nEpoch: 3, Iteration: 1000, Loss: 0.1629033386707306\nEpoch: 3, Average Loss: 0.21691883386881067\nEpoch: 4, Iteration: 0, Loss: 0.2228986769914627\nEpoch: 4, Iteration: 500, Loss: 0.2623502314090729\nEpoch: 4, Iteration: 1000, Loss: 0.22691337764263153\nEpoch: 4, Average Loss: 0.20206521058797602\nEpoch: 5, Iteration: 0, Loss: 0.21478989720344543\nEpoch: 5, Iteration: 500, Loss: 0.188987135887146\nEpoch: 5, Iteration: 1000, Loss: 0.23824472725391388\nEpoch: 5, Average Loss: 0.1886355934725047\nEpoch: 6, Iteration: 0, Loss: 0.1676788181066513\nEpoch: 6, Iteration: 500, Loss: 0.19776485860347748\nEpoch: 6, Iteration: 1000, Loss: 0.22586345672607422\nEpoch: 6, Average Loss: 0.17703559010810674\nEpoch: 7, Iteration: 0, Loss: 0.1827787309885025\nEpoch: 7, Iteration: 500, Loss: 0.1300528347492218\nEpoch: 7, Iteration: 1000, Loss: 0.21754585206508636\nEpoch: 7, Average Loss: 0.1673240810925747\nEpoch: 8, Iteration: 0, Loss: 0.11833076924085617\nEpoch: 8, Iteration: 500, Loss: 0.22669930756092072\nEpoch: 8, Iteration: 1000, Loss: 0.17680715024471283\nEpoch: 8, Average Loss: 0.15892180720584115\nEpoch: 9, Iteration: 0, Loss: 0.1385471671819687\nEpoch: 9, Iteration: 500, Loss: 0.18518300354480743\nEpoch: 9, Iteration: 1000, Loss: 0.15967655181884766\nEpoch: 9, Average Loss: 0.15090579561515544\n",
          "output_type": "stream"
        }
      ]
    },
    {
      "cell_type": "code",
      "source": [
        "def validation():\n",
        "    model.eval()\n",
        "    fin_targets=[]\n",
        "    fin_outputs=[]\n",
        "    with torch.no_grad():\n",
        "        for _, data in enumerate(valid_loader, 0):\n",
        "            ids = data['ids'].to(device, dtype = torch.long)\n",
        "            mask = data['mask'].to(device, dtype = torch.long)\n",
        "            token_type_ids = data['token_type_ids'].to(device, dtype = torch.long)\n",
        "            targets = data['targets'].to(device, dtype = torch.float)\n",
        "            outputs = model(ids, mask, token_type_ids)\n",
        "            fin_targets.extend(targets.cpu().detach().numpy().tolist())\n",
        "            fin_outputs.extend(torch.sigmoid(outputs).cpu().detach().numpy().tolist())\n",
        "    return fin_outputs, fin_targets"
      ],
      "metadata": {
        "execution": {
          "iopub.status.busy": "2023-12-08T19:49:38.986201Z",
          "iopub.execute_input": "2023-12-08T19:49:38.986522Z",
          "iopub.status.idle": "2023-12-08T19:49:38.994659Z",
          "shell.execute_reply.started": "2023-12-08T19:49:38.986490Z",
          "shell.execute_reply": "2023-12-08T19:49:38.993837Z"
        },
        "trusted": true,
        "id": "8OYO8OPnARoG"
      },
      "execution_count": null,
      "outputs": []
    },
    {
      "cell_type": "code",
      "source": [
        "outputs, targets = validation()\n",
        "outputs = np.array(outputs) >= 0.5\n",
        "accuracy = metrics.accuracy_score(targets, outputs)\n",
        "f1_score_micro = metrics.f1_score(targets, outputs, average='micro')\n",
        "f1_score_macro = metrics.f1_score(targets, outputs, average='macro')\n",
        "print(f\"Accuracy Score = {accuracy}\")\n",
        "print(f\"F1 Score (Micro) = {f1_score_micro}\")\n",
        "print(f\"F1 Score (Macro) = {f1_score_macro}\")"
      ],
      "metadata": {
        "execution": {
          "iopub.status.busy": "2023-12-08T19:49:38.999736Z",
          "iopub.execute_input": "2023-12-08T19:49:39.000083Z",
          "iopub.status.idle": "2023-12-08T19:50:22.751488Z",
          "shell.execute_reply.started": "2023-12-08T19:49:39.000054Z",
          "shell.execute_reply": "2023-12-08T19:50:22.750410Z"
        },
        "trusted": true,
        "id": "G2yhc8CEARoG",
        "outputId": "87620d76-1028-4b36-f713-96f792549b1d"
      },
      "execution_count": null,
      "outputs": [
        {
          "name": "stdout",
          "text": "Accuracy Score = 0.6395171361176634\nF1 Score (Micro) = 0.668201770166223\nF1 Score (Macro) = 0.5529084497707137\n",
          "output_type": "stream"
        }
      ]
    },
    {
      "cell_type": "code",
      "source": [
        "torch.save(model.state_dict(), 'model.bin')"
      ],
      "metadata": {
        "execution": {
          "iopub.status.busy": "2023-12-08T19:50:22.753278Z",
          "iopub.execute_input": "2023-12-08T19:50:22.753589Z",
          "iopub.status.idle": "2023-12-08T19:50:23.943882Z",
          "shell.execute_reply.started": "2023-12-08T19:50:22.753557Z",
          "shell.execute_reply": "2023-12-08T19:50:23.943016Z"
        },
        "trusted": true,
        "id": "P11NYIUTARoH"
      },
      "execution_count": null,
      "outputs": []
    },
    {
      "cell_type": "code",
      "source": [
        "# from transformers import AutoConfig, AutoModel"
      ],
      "metadata": {
        "execution": {
          "iopub.status.busy": "2023-12-08T19:50:23.945176Z",
          "iopub.execute_input": "2023-12-08T19:50:23.945478Z",
          "iopub.status.idle": "2023-12-08T19:50:23.949406Z",
          "shell.execute_reply.started": "2023-12-08T19:50:23.945450Z",
          "shell.execute_reply": "2023-12-08T19:50:23.948501Z"
        },
        "trusted": true,
        "id": "NHcRJtG7ARoH"
      },
      "execution_count": null,
      "outputs": []
    },
    {
      "cell_type": "code",
      "source": [
        "#config = AutoConfig.from_pretrained('bert-base-uncased')\n",
        "#model =  AutoModel.from_config(config)"
      ],
      "metadata": {
        "execution": {
          "iopub.status.busy": "2023-12-08T19:50:23.950543Z",
          "iopub.execute_input": "2023-12-08T19:50:23.950867Z",
          "iopub.status.idle": "2023-12-08T19:50:23.959532Z",
          "shell.execute_reply.started": "2023-12-08T19:50:23.950838Z",
          "shell.execute_reply": "2023-12-08T19:50:23.958558Z"
        },
        "trusted": true,
        "id": "9cIQsJ1aARoH"
      },
      "execution_count": null,
      "outputs": []
    },
    {
      "cell_type": "code",
      "source": [
        "#PATH = \"\"\n",
        "#model.load_state_dict(torch.load(PATH))"
      ],
      "metadata": {
        "execution": {
          "iopub.status.busy": "2023-12-08T19:50:23.960582Z",
          "iopub.execute_input": "2023-12-08T19:50:23.960921Z",
          "iopub.status.idle": "2023-12-08T19:50:23.970247Z",
          "shell.execute_reply.started": "2023-12-08T19:50:23.960892Z",
          "shell.execute_reply": "2023-12-08T19:50:23.969526Z"
        },
        "trusted": true,
        "id": "f87OOdVpARoH"
      },
      "execution_count": null,
      "outputs": []
    },
    {
      "cell_type": "code",
      "source": [],
      "metadata": {
        "trusted": true,
        "id": "LN6XHhNVARoH"
      },
      "execution_count": null,
      "outputs": []
    }
  ]
}