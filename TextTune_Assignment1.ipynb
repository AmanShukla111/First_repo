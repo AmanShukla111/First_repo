{
  "nbformat": 4,
  "nbformat_minor": 0,
  "metadata": {
    "colab": {
      "provenance": [],
      "authorship_tag": "ABX9TyPKuruTuLN9D5WPTD8sO+FG",
      "include_colab_link": true
    },
    "kernelspec": {
      "name": "python3",
      "display_name": "Python 3"
    },
    "language_info": {
      "name": "python"
    }
  },
  "cells": [
    {
      "cell_type": "markdown",
      "metadata": {
        "id": "view-in-github",
        "colab_type": "text"
      },
      "source": [
        "<a href=\"https://colab.research.google.com/github/AmanShukla111/First_repo/blob/main/TextTune_Assignment1.ipynb\" target=\"_parent\"><img src=\"https://colab.research.google.com/assets/colab-badge.svg\" alt=\"Open In Colab\"/></a>"
      ]
    },
    {
      "cell_type": "code",
      "execution_count": 100,
      "metadata": {
        "id": "PHuQv-qp-giS"
      },
      "outputs": [],
      "source": [
        "import pandas as pd\n",
        "from sklearn.model_selection import train_test_split\n",
        "from sklearn.metrics import mean_absolute_error\n",
        "from sklearn.metrics import accuracy_score\n",
        "from sklearn.linear_model import LogisticRegression\n",
        "from imblearn.over_sampling import SMOTE"
      ]
    },
    {
      "cell_type": "code",
      "source": [
        "from google.colab import drive\n",
        "drive.mount('/content/drive')\n",
        "patients_data = pd.read_csv('/content/drive/MyDrive/Workspace/drug200.csv')"
      ],
      "metadata": {
        "colab": {
          "base_uri": "https://localhost:8080/"
        },
        "id": "Na3Ltv02_TQY",
        "outputId": "9b7956da-e388-4517-9c5f-ac21e0761451"
      },
      "execution_count": 101,
      "outputs": [
        {
          "output_type": "stream",
          "name": "stdout",
          "text": [
            "Drive already mounted at /content/drive; to attempt to forcibly remount, call drive.mount(\"/content/drive\", force_remount=True).\n"
          ]
        }
      ]
    },
    {
      "cell_type": "markdown",
      "source": [
        "# New Section"
      ],
      "metadata": {
        "id": "viOUz4HWc6aX"
      }
    },
    {
      "cell_type": "code",
      "source": [
        "patients_data.Drug.value_counts()"
      ],
      "metadata": {
        "colab": {
          "base_uri": "https://localhost:8080/"
        },
        "id": "Gj30MDJt_1Tz",
        "outputId": "ffad7a78-00a8-4ad9-ffd9-a37a85f0a787"
      },
      "execution_count": 102,
      "outputs": [
        {
          "output_type": "execute_result",
          "data": {
            "text/plain": [
              "DrugY    91\n",
              "drugX    54\n",
              "drugA    23\n",
              "drugC    16\n",
              "drugB    16\n",
              "Name: Drug, dtype: int64"
            ]
          },
          "metadata": {},
          "execution_count": 102
        }
      ]
    },
    {
      "cell_type": "code",
      "source": [
        "y = patients_data.Drug\n",
        "data_features = ['Age', 'Sex', 'BP', 'Cholesterol', 'Na_to_K']\n",
        "X = patients_data[data_features]"
      ],
      "metadata": {
        "id": "JyZQ9mgSR5sE"
      },
      "execution_count": 103,
      "outputs": []
    },
    {
      "cell_type": "code",
      "source": [
        "train_X, val_X, train_y, val_y = train_test_split(X,y, random_state=0,test_size=0.20)\n",
        "train_X = pd.get_dummies(pd.DataFrame(train_X))\n",
        "val_X = pd.get_dummies(pd.DataFrame(val_X))\n",
        "train_X,train_y = SMOTE().fit_resample(train_X, train_y)"
      ],
      "metadata": {
        "id": "anRlb7v0SWFb"
      },
      "execution_count": 104,
      "outputs": []
    },
    {
      "cell_type": "code",
      "source": [
        "model = LogisticRegression(max_iter=5000)\n",
        "model.fit(train_X,train_y)\n",
        "predicted_val = model.predict(val_X)\n",
        "score_1=accuracy_score(val_y,predicted_val)\n",
        "print(\"The accuracy score is: \" , score_1, sep=' ')\n",
        "print(\"Here are some of the predicted Drugs: \",predicted_val, sep='\\n')"
      ],
      "metadata": {
        "colab": {
          "base_uri": "https://localhost:8080/"
        },
        "id": "1MTlUf8BANtn",
        "outputId": "0a0fb1f2-048f-4329-86df-825556ae0d5a"
      },
      "execution_count": 105,
      "outputs": [
        {
          "output_type": "stream",
          "name": "stdout",
          "text": [
            "The accuracy score is:  1.0\n",
            "Here are some of the predicted Drugs: \n",
            "['drugC' 'drugX' 'DrugY' 'DrugY' 'DrugY' 'drugX' 'drugX' 'drugX' 'DrugY'\n",
            " 'drugX' 'drugA' 'DrugY' 'DrugY' 'DrugY' 'drugB' 'drugC' 'DrugY' 'DrugY'\n",
            " 'drugX' 'DrugY' 'DrugY' 'drugX' 'drugX' 'drugX' 'DrugY' 'DrugY' 'DrugY'\n",
            " 'DrugY' 'DrugY' 'drugX' 'drugX' 'drugC' 'drugA' 'drugX' 'DrugY' 'DrugY'\n",
            " 'drugX' 'DrugY' 'drugA' 'drugX']\n"
          ]
        }
      ]
    }
  ]
}